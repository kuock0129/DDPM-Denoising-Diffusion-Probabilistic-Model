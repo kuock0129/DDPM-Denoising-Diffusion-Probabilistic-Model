{
  "cells": [
    {
      "cell_type": "markdown",
      "metadata": {
        "id": "view-in-github",
        "colab_type": "text"
      },
      "source": [
        "<a href=\"https://colab.research.google.com/github/kuock0129/DDPM-Denoising-Diffusion-Probabilistic-Model/blob/main/StableDiffusionWebUI.ipynb\" target=\"_parent\"><img src=\"https://colab.research.google.com/assets/colab-badge.svg\" alt=\"Open In Colab\"/></a>"
      ]
    },
    {
      "cell_type": "code",
      "execution_count": null,
      "metadata": {
        "colab": {
          "base_uri": "https://localhost:8080/"
        },
        "id": "_S1aWJr3F_5R",
        "outputId": "a5de77c0-03c2-469f-f43d-d60bfa917d3d"
      },
      "outputs": [
        {
          "name": "stdout",
          "output_type": "stream",
          "text": [
            "/bin/bash: line 1: nvidia-smi: command not found\n"
          ]
        }
      ],
      "source": [
        "!nvidia-smi"
      ]
    },
    {
      "cell_type": "code",
      "execution_count": null,
      "metadata": {
        "colab": {
          "base_uri": "https://localhost:8080/"
        },
        "id": "9y4mVFHNGDTN",
        "outputId": "d4fe4ad4-3a56-427d-9391-722e6390d626"
      },
      "outputs": [
        {
          "name": "stdout",
          "output_type": "stream",
          "text": [
            "Torch version: 2.6.0+cu124\n",
            "CUDA available: False\n",
            "Device: CPU\n"
          ]
        }
      ],
      "source": [
        "import torch\n",
        "print(\"Torch version:\", torch.__version__)\n",
        "print(\"CUDA available:\", torch.cuda.is_available())\n",
        "print(\"Device:\", torch.cuda.get_device_name(0) if torch.cuda.is_available() else \"CPU\")\n"
      ]
    },
    {
      "cell_type": "code",
      "execution_count": null,
      "metadata": {
        "colab": {
          "base_uri": "https://localhost:8080/"
        },
        "id": "31cQZExkGH1M",
        "outputId": "b9b89ba3-2b94-40d8-ecad-ac9461a2f054"
      },
      "outputs": [
        {
          "name": "stdout",
          "output_type": "stream",
          "text": [
            "Looking in indexes: https://download.pytorch.org/whl/cu121\n",
            "Requirement already satisfied: torch in /usr/local/lib/python3.11/dist-packages (2.5.1+cu121)\n",
            "Requirement already satisfied: torchvision in /usr/local/lib/python3.11/dist-packages (0.20.1+cu121)\n",
            "Requirement already satisfied: torchaudio in /usr/local/lib/python3.11/dist-packages (2.5.1+cu121)\n",
            "Requirement already satisfied: filelock in /usr/local/lib/python3.11/dist-packages (from torch) (3.18.0)\n",
            "Requirement already satisfied: typing-extensions>=4.8.0 in /usr/local/lib/python3.11/dist-packages (from torch) (4.13.1)\n",
            "Requirement already satisfied: networkx in /usr/local/lib/python3.11/dist-packages (from torch) (3.4.2)\n",
            "Requirement already satisfied: jinja2 in /usr/local/lib/python3.11/dist-packages (from torch) (3.1.6)\n",
            "Requirement already satisfied: fsspec in /usr/local/lib/python3.11/dist-packages (from torch) (2025.3.2)\n",
            "Requirement already satisfied: nvidia-cuda-nvrtc-cu12==12.1.105 in /usr/local/lib/python3.11/dist-packages (from torch) (12.1.105)\n",
            "Requirement already satisfied: nvidia-cuda-runtime-cu12==12.1.105 in /usr/local/lib/python3.11/dist-packages (from torch) (12.1.105)\n",
            "Requirement already satisfied: nvidia-cuda-cupti-cu12==12.1.105 in /usr/local/lib/python3.11/dist-packages (from torch) (12.1.105)\n",
            "Requirement already satisfied: nvidia-cudnn-cu12==9.1.0.70 in /usr/local/lib/python3.11/dist-packages (from torch) (9.1.0.70)\n",
            "Requirement already satisfied: nvidia-cublas-cu12==12.1.3.1 in /usr/local/lib/python3.11/dist-packages (from torch) (12.1.3.1)\n",
            "Requirement already satisfied: nvidia-cufft-cu12==11.0.2.54 in /usr/local/lib/python3.11/dist-packages (from torch) (11.0.2.54)\n",
            "Requirement already satisfied: nvidia-curand-cu12==10.3.2.106 in /usr/local/lib/python3.11/dist-packages (from torch) (10.3.2.106)\n",
            "Requirement already satisfied: nvidia-cusolver-cu12==11.4.5.107 in /usr/local/lib/python3.11/dist-packages (from torch) (11.4.5.107)\n",
            "Requirement already satisfied: nvidia-cusparse-cu12==12.1.0.106 in /usr/local/lib/python3.11/dist-packages (from torch) (12.1.0.106)\n",
            "Requirement already satisfied: nvidia-nccl-cu12==2.21.5 in /usr/local/lib/python3.11/dist-packages (from torch) (2.21.5)\n",
            "Requirement already satisfied: nvidia-nvtx-cu12==12.1.105 in /usr/local/lib/python3.11/dist-packages (from torch) (12.1.105)\n",
            "Requirement already satisfied: triton==3.1.0 in /usr/local/lib/python3.11/dist-packages (from torch) (3.1.0)\n",
            "Requirement already satisfied: sympy==1.13.1 in /usr/local/lib/python3.11/dist-packages (from torch) (1.13.1)\n",
            "Requirement already satisfied: nvidia-nvjitlink-cu12 in /usr/local/lib/python3.11/dist-packages (from nvidia-cusolver-cu12==11.4.5.107->torch) (12.5.82)\n",
            "Requirement already satisfied: mpmath<1.4,>=1.1.0 in /usr/local/lib/python3.11/dist-packages (from sympy==1.13.1->torch) (1.3.0)\n",
            "Requirement already satisfied: numpy in /usr/local/lib/python3.11/dist-packages (from torchvision) (2.0.2)\n",
            "Requirement already satisfied: pillow!=8.3.*,>=5.3.0 in /usr/local/lib/python3.11/dist-packages (from torchvision) (11.1.0)\n",
            "Requirement already satisfied: MarkupSafe>=2.0 in /usr/local/lib/python3.11/dist-packages (from jinja2->torch) (3.0.2)\n"
          ]
        }
      ],
      "source": [
        "# Install with CUDA 12.1 for T4\n",
        "!pip install torch torchvision torchaudio --index-url https://download.pytorch.org/whl/cu121\n"
      ]
    },
    {
      "cell_type": "code",
      "execution_count": null,
      "metadata": {
        "colab": {
          "base_uri": "https://localhost:8080/"
        },
        "id": "WQWxSVSsGhGH",
        "outputId": "caab4949-957c-4254-ce7a-928c5d8e30ca"
      },
      "outputs": [
        {
          "name": "stdout",
          "output_type": "stream",
          "text": [
            "Cloning into '/content/webui'...\n",
            "remote: Enumerating objects: 34945, done.\u001b[K\n",
            "remote: Total 34945 (delta 0), reused 0 (delta 0), pack-reused 34945 (from 1)\u001b[K\n",
            "Receiving objects: 100% (34945/34945), 35.53 MiB | 28.14 MiB/s, done.\n",
            "Resolving deltas: 100% (24409/24409), done.\n",
            "/content/webui\n"
          ]
        }
      ],
      "source": [
        "# 3. Clone WebUI repo\n",
        "!git clone https://github.com/AUTOMATIC1111/stable-diffusion-webui /content/webui\n",
        "%cd /content/webui"
      ]
    },
    {
      "cell_type": "code",
      "execution_count": null,
      "metadata": {
        "colab": {
          "base_uri": "https://localhost:8080/"
        },
        "id": "0p2wdivhT0UX",
        "outputId": "afc126f0-db5f-420a-ea77-11acdcd06932"
      },
      "outputs": [
        {
          "name": "stdout",
          "output_type": "stream",
          "text": [
            "Cloning into 'extensions/sd-webui-controlnet'...\n",
            "remote: Enumerating objects: 9979, done.\u001b[K\n",
            "remote: Counting objects: 100% (724/724), done.\u001b[K\n",
            "remote: Compressing objects: 100% (99/99), done.\u001b[K\n",
            "remote: Total 9979 (delta 669), reused 625 (delta 625), pack-reused 9255 (from 2)\u001b[K\n",
            "Receiving objects: 100% (9979/9979), 18.11 MiB | 20.60 MiB/s, done.\n",
            "Resolving deltas: 100% (5980/5980), done.\n"
          ]
        }
      ],
      "source": [
        "# Clone ControlNet Extension\n",
        "!git clone https://github.com/Mikubill/sd-webui-controlnet extensions/sd-webui-controlnet"
      ]
    },
    {
      "cell_type": "code",
      "execution_count": null,
      "metadata": {
        "id": "lJIzdy5LVNgF"
      },
      "outputs": [],
      "source": [
        "# Install dependencies\n",
        "!pip install -q torch torchvision torchaudio --extra-index-url https://download.pytorch.org/whl/cu118"
      ]
    },
    {
      "cell_type": "code",
      "execution_count": null,
      "metadata": {
        "id": "OMcSnnYSVRTG"
      },
      "outputs": [],
      "source": [
        "import os\n",
        "os.environ[\"COMMANDLINE_ARGS\"] = \" --enable-insecure-extension-access --skip-torch-cuda-test --share\""
      ]
    },
    {
      "cell_type": "code",
      "execution_count": null,
      "metadata": {
        "colab": {
          "base_uri": "https://localhost:8080/"
        },
        "id": "DIvBBWZygANE",
        "outputId": "6227579b-4943-4fba-88a2-eca757f6c827"
      },
      "outputs": [
        {
          "name": "stdout",
          "output_type": "stream",
          "text": [
            "Reading package lists... Done\n",
            "Building dependency tree... Done\n",
            "Reading state information... Done\n",
            "aria2 is already the newest version (1.36.0-1).\n",
            "0 upgraded, 0 newly installed, 0 to remove and 30 not upgraded.\n"
          ]
        }
      ],
      "source": [
        "!apt-get install -y aria2"
      ]
    },
    {
      "cell_type": "code",
      "execution_count": null,
      "metadata": {
        "colab": {
          "base_uri": "https://localhost:8080/"
        },
        "id": "jiqOfwCYGkRO",
        "outputId": "20055700-76d5-42f3-ac70-f23ec8543496"
      },
      "outputs": [
        {
          "name": "stdout",
          "output_type": "stream",
          "text": [
            "\n",
            "04/11 07:22:34 [\u001b[1;32mNOTICE\u001b[0m] Downloading 1 item(s)\n",
            "\n",
            "04/11 07:22:34 [\u001b[1;32mNOTICE\u001b[0m] CUID#7 - Redirecting to https://huggingface.co/stable-diffusion-v1-5/stable-diffusion-v1-5/resolve/main/v1-5-pruned-emaonly.safetensors\n",
            "\n",
            "04/11 07:22:34 [\u001b[1;32mNOTICE\u001b[0m] CUID#7 - Redirecting to https://cdn-lfs.hf.co/repos/66/6f/666f465fa70158515404e8de2c6bc6fe2f90c46f9296293aa14daededeb32c52/6ce0161689b3853acaa03779ec93eafe75a02f4ced659bee03f50797806fa2fa?response-content-disposition=inline%3B+filename*%3DUTF-8%27%27v1-5-pruned-emaonly.safetensors%3B+filename%3D%22v1-5-pruned-emaonly.safetensors%22%3B&Expires=1744358261&Policy=eyJTdGF0ZW1lbnQiOlt7IkNvbmRpdGlvbiI6eyJEYXRlTGVzc1RoYW4iOnsiQVdTOkVwb2NoVGltZSI6MTc0NDM1ODI2MX19LCJSZXNvdXJjZSI6Imh0dHBzOi8vY2RuLWxmcy5oZi5jby9yZXBvcy82Ni82Zi82NjZmNDY1ZmE3MDE1ODUxNTQwNGU4ZGUyYzZiYzZmZTJmOTBjNDZmOTI5NjI5M2FhMTRkYWVkZWRlYjMyYzUyLzZjZTAxNjE2ODliMzg1M2FjYWEwMzc3OWVjOTNlYWZlNzVhMDJmNGNlZDY1OWJlZTAzZjUwNzk3ODA2ZmEyZmE%7EcmVzcG9uc2UtY29udGVudC1kaXNwb3NpdGlvbj0qIn1dfQ__&Signature=v8EoVD-zrz2pboeqjMIgbvJ76oENAx3kIDbYSC8ChHX6pWlxY58p1Z--wedxwxnOdAsegKSdsLDhZwNmXT3G-VPDesPfwtGfTV2SqtiukXkYCVPJ5uD-ScvLChlEoMYCuEWrffCZPIbEXx0cVkMP-lhhKtJCZpWvNrmOL3JSdGAbQqhbr0%7EisNsFFh%7Eah6AHrEs2RgvFJCGUgmXfDvrBDokHLxkffH8RqMLc40KDUJ7urWbXuNfMz9C1EEypwB6Yu408EXG0DFKtivn9E8INhZfI8YmDh2rmwJ1VbdenntAWvqEt-OcgQoG6BzA3xYPZMIuheYd6pbPGoMz931v1Tw__&Key-Pair-Id=K3RPWS32NSSJCE\n",
            "\u001b[0m\n",
            "04/11 07:23:06 [\u001b[1;32mNOTICE\u001b[0m] Download complete: models/Stable-diffusion/v1-5-pruned-emaonly.safetensors\n",
            "\n",
            "Download Results:\n",
            "gid   |stat|avg speed  |path/URI\n",
            "======+====+===========+=======================================================\n",
            "3c0efe|\u001b[1;32mOK\u001b[0m  |   129MiB/s|models/Stable-diffusion/v1-5-pruned-emaonly.safetensors\n",
            "\n",
            "Status Legend:\n",
            "(OK):download completed.\n"
          ]
        }
      ],
      "source": [
        "# SD v1.5\n",
        "!mkdir -p models/Stable-diffusion\n",
        "!aria2c --dir=models/Stable-diffusion --out=v1-5-pruned-emaonly.safetensors https://huggingface.co/runwayml/stable-diffusion-v1-5/resolve/main/v1-5-pruned-emaonly.safetensors"
      ]
    },
    {
      "cell_type": "code",
      "execution_count": null,
      "metadata": {
        "colab": {
          "base_uri": "https://localhost:8080/"
        },
        "id": "NjegvpXXVcf5",
        "outputId": "394a6e15-efb4-4f60-ee0c-b2e87f33c7f6"
      },
      "outputs": [
        {
          "name": "stdout",
          "output_type": "stream",
          "text": [
            "\n",
            "04/11 07:23:25 [\u001b[1;32mNOTICE\u001b[0m] Downloading 1 item(s)\n",
            "\n",
            "04/11 07:23:25 [\u001b[1;32mNOTICE\u001b[0m] CUID#7 - Redirecting to https://cdn-lfs.hf.co/repos/e7/4c/e74c9ddc88b5a293fa8aafeb615d6c61cb3aaa34dc7ce9e25100dfae2b09bf55/db97becd92cd19aff71352a60e93c2508decba3dee64f01f686727b9b406a9dd?response-content-disposition=inline%3B+filename*%3DUTF-8%27%27control_v11p_sd15_openpose.pth%3B+filename%3D%22control_v11p_sd15_openpose.pth%22%3B&Expires=1744359805&Policy=eyJTdGF0ZW1lbnQiOlt7IkNvbmRpdGlvbiI6eyJEYXRlTGVzc1RoYW4iOnsiQVdTOkVwb2NoVGltZSI6MTc0NDM1OTgwNX19LCJSZXNvdXJjZSI6Imh0dHBzOi8vY2RuLWxmcy5oZi5jby9yZXBvcy9lNy80Yy9lNzRjOWRkYzg4YjVhMjkzZmE4YWFmZWI2MTVkNmM2MWNiM2FhYTM0ZGM3Y2U5ZTI1MTAwZGZhZTJiMDliZjU1L2RiOTdiZWNkOTJjZDE5YWZmNzEzNTJhNjBlOTNjMjUwOGRlY2JhM2RlZTY0ZjAxZjY4NjcyN2I5YjQwNmE5ZGQ%7EcmVzcG9uc2UtY29udGVudC1kaXNwb3NpdGlvbj0qIn1dfQ__&Signature=tNv-ZVchDlQSy2cIiba6OSU0zzo0qcGBguPP3kvYR4DOqAqDylFshdueRM40HNrPlkkkO1n1SnvQFcfw3%7EpzZl1vHrfFeQii9qe9whJ10XQj-cy9J%7EJWm4ZWL0WGdLiVeU7BEybi7UxBZCDEMTPLso8xA-L8i3m9MPj2nX94145xLwZjzJDXMARVUNSowgWNtuSz9pD-O8uWp0Mspn3pLzZfsNAsDXAAowplW7VaboEEnBgHLB3QSLw4E0GO5rmrp9yB-t2Lh1qOal5KmnWaV8FMLKS%7E-Ph9oeC6bunHZsy2TO2ekyUWGi%7EB1GDuVMARVZbzKECiATDbIvbaKnx5bA__&Key-Pair-Id=K3RPWS32NSSJCE\n",
            "\u001b[0m\n",
            "04/11 07:23:35 [\u001b[1;32mNOTICE\u001b[0m] Download complete: models/ControlNet/control_v11p_sd15_openpose.pth\n",
            "\n",
            "Download Results:\n",
            "gid   |stat|avg speed  |path/URI\n",
            "======+====+===========+=======================================================\n",
            "3749ce|\u001b[1;32mOK\u001b[0m  |   151MiB/s|models/ControlNet/control_v11p_sd15_openpose.pth\n",
            "\n",
            "Status Legend:\n",
            "(OK):download completed.\n"
          ]
        }
      ],
      "source": [
        "# ControlNet - OpenPose\n",
        "!mkdir -p models/ControlNet\n",
        "!aria2c --dir=models/ControlNet --out=control_v11p_sd15_openpose.pth https://huggingface.co/lllyasviel/ControlNet-v1-1/resolve/main/control_v11p_sd15_openpose.pth"
      ]
    },
    {
      "cell_type": "code",
      "execution_count": null,
      "metadata": {
        "colab": {
          "base_uri": "https://localhost:8080/"
        },
        "id": "KORCWBzMwWlx",
        "outputId": "e0a8ccae-2cb5-4324-90df-b778b32d1a67"
      },
      "outputs": [
        {
          "name": "stdout",
          "output_type": "stream",
          "text": [
            "/bin/bash: line 1: cd: stable-diffusion-webui/extensions: No such file or directory\n",
            "Cloning into 'sd-webui-animatediff'...\n",
            "remote: Enumerating objects: 1136, done.\u001b[K\n",
            "remote: Counting objects: 100% (697/697), done.\u001b[K\n",
            "remote: Compressing objects: 100% (182/182), done.\u001b[K\n",
            "remote: Total 1136 (delta 591), reused 515 (delta 515), pack-reused 439 (from 2)\u001b[K\n",
            "Receiving objects: 100% (1136/1136), 406.45 KiB | 4.73 MiB/s, done.\n",
            "Resolving deltas: 100% (722/722), done.\n"
          ]
        }
      ],
      "source": [
        "!cd stable-diffusion-webui/extensions\n",
        "!git clone https://github.com/continue-revolution/sd-webui-animatediff"
      ]
    },
    {
      "cell_type": "code",
      "execution_count": null,
      "metadata": {
        "colab": {
          "base_uri": "https://localhost:8080/"
        },
        "id": "8HwPYY0m03yA",
        "outputId": "b901c5da-1f19-4187-aeaf-a8041d6617ed"
      },
      "outputs": [
        {
          "name": "stdout",
          "output_type": "stream",
          "text": [
            "/content/stable-diffusion-webui/extensions/sd-webui-animatediff/model/Motion_Module/mm_sd_v14.ckpt: No such file or directory\n"
          ]
        }
      ],
      "source": [
        "!wget https://huggingface.co/guoyww/animatediff-motion-models/resolve/main/mm_sd_v14.ckpt -O /content/stable-diffusion-webui/extensions/sd-webui-animatediff/model/Motion_Module/mm_sd_v14.ckpt"
      ]
    },
    {
      "cell_type": "code",
      "execution_count": null,
      "metadata": {
        "colab": {
          "background_save": true,
          "base_uri": "https://localhost:8080/"
        },
        "id": "0PfM9MTDV0xF",
        "outputId": "ee5983b3-d87d-49ce-dbc7-27daf8adfbb0"
      },
      "outputs": [
        {
          "name": "stdout",
          "output_type": "stream",
          "text": [
            "Python 3.11.12 (main, Apr  9 2025, 08:55:54) [GCC 11.4.0]\n",
            "Version: v1.10.1\n",
            "Commit hash: 82a973c04367123ae98bd9abdf80d9eda9b910e2\n",
            "ControlNet init warning: Unable to install insightface automatically. Please try run `pip install insightface` manually.\n",
            "Launching Web UI with arguments: --enable-insecure-extension-access --skip-torch-cuda-test --share\n",
            "2025-04-11 07:50:03.518590: E external/local_xla/xla/stream_executor/cuda/cuda_fft.cc:477] Unable to register cuFFT factory: Attempting to register factory for plugin cuFFT when one has already been registered\n",
            "WARNING: All log messages before absl::InitializeLog() is called are written to STDERR\n",
            "E0000 00:00:1744357803.561315    9749 cuda_dnn.cc:8310] Unable to register cuDNN factory: Attempting to register factory for plugin cuDNN when one has already been registered\n",
            "E0000 00:00:1744357803.573855    9749 cuda_blas.cc:1418] Unable to register cuBLAS factory: Attempting to register factory for plugin cuBLAS when one has already been registered\n",
            "no module 'xformers'. Processing without...\n",
            "no module 'xformers'. Processing without...\n",
            "No module 'xformers'. Proceeding without it.\n",
            "Warning: caught exception 'Found no NVIDIA driver on your system. Please check that you have an NVIDIA GPU and installed a driver from http://www.nvidia.com/Download/index.aspx', memory monitor disabled\n",
            "ControlNet preprocessor location: /content/webui/extensions/sd-webui-controlnet/annotator/downloads\n",
            "2025-04-11 07:50:11,619 - ControlNet - \u001b[0;32mINFO\u001b[0m - ControlNet v1.1.455\n",
            "Loading weights [6ce0161689] from /content/webui/models/Stable-diffusion/v1-5-pruned-emaonly.safetensors\n",
            "2025-04-11 07:50:12,674 - ControlNet - \u001b[0;32mINFO\u001b[0m - ControlNet UI callback registered.\n",
            "Running on local URL:  http://127.0.0.1:7860\n",
            "Creating model from config: /content/webui/configs/v1-inference.yaml\n",
            "/usr/local/lib/python3.11/dist-packages/huggingface_hub/file_download.py:896: FutureWarning: `resume_download` is deprecated and will be removed in version 1.0.0. Downloads always resume when possible. If you want to force a new download, use `force_download=True`.\n",
            "  warnings.warn(\n",
            "Running on public URL: https://ffb7b5cb3fe422cfa3.gradio.live\n",
            "\n",
            "This share link expires in 72 hours. For free permanent hosting and GPU upgrades, run `gradio deploy` from Terminal to deploy to Spaces (https://huggingface.co/spaces)\n",
            "Startup time: 22.1s (prepare environment: 0.4s, import torch: 8.6s, import gradio: 1.2s, setup paths: 6.1s, other imports: 0.3s, load scripts: 3.6s, create ui: 0.8s, gradio launch: 1.0s).\n",
            "Applying attention optimization: InvokeAI... done.\n",
            "loading stable diffusion model: RuntimeError\n",
            "Traceback (most recent call last):\n",
            "  File \"/usr/lib/python3.11/threading.py\", line 1002, in _bootstrap\n",
            "    self._bootstrap_inner()\n",
            "  File \"/usr/lib/python3.11/threading.py\", line 1045, in _bootstrap_inner\n",
            "    self.run()\n",
            "  File \"/usr/lib/python3.11/threading.py\", line 982, in run\n",
            "    self._target(*self._args, **self._kwargs)\n",
            "  File \"/content/webui/modules/initialize.py\", line 149, in load_model\n",
            "    shared.sd_model  # noqa: B018\n",
            "  File \"/content/webui/modules/shared_items.py\", line 175, in sd_model\n",
            "    return modules.sd_models.model_data.get_sd_model()\n",
            "  File \"/content/webui/modules/sd_models.py\", line 693, in get_sd_model\n",
            "    load_model()\n",
            "  File \"/content/webui/modules/sd_models.py\", line 868, in load_model\n",
            "    with devices.autocast(), torch.no_grad():\n",
            "         ^^^^^^^^^^^^^^^^^^\n",
            "  File \"/content/webui/modules/devices.py\", line 228, in autocast\n",
            "    if has_xpu() or has_mps() or cuda_no_autocast():\n",
            "                                 ^^^^^^^^^^^^^^^^^^\n",
            "  File \"/content/webui/modules/devices.py\", line 28, in cuda_no_autocast\n",
            "    device_id = get_cuda_device_id()\n",
            "                ^^^^^^^^^^^^^^^^^^^^\n",
            "  File \"/content/webui/modules/devices.py\", line 40, in get_cuda_device_id\n",
            "    ) or torch.cuda.current_device()\n",
            "         ^^^^^^^^^^^^^^^^^^^^^^^^^^^\n",
            "  File \"/usr/local/lib/python3.11/dist-packages/torch/cuda/__init__.py\", line 940, in current_device\n",
            "    _lazy_init()\n",
            "  File \"/usr/local/lib/python3.11/dist-packages/torch/cuda/__init__.py\", line 319, in _lazy_init\n",
            "    torch._C._cuda_init()\n",
            "RuntimeError: Found no NVIDIA driver on your system. Please check that you have an NVIDIA GPU and installed a driver from http://www.nvidia.com/Download/index.aspx\n",
            "\n",
            "\n",
            "Stable diffusion model failed to load\n"
          ]
        }
      ],
      "source": [
        "!python launch.py\n"
      ]
    },
    {
      "cell_type": "markdown",
      "metadata": {
        "id": "EjLCOZwDGFid"
      },
      "source": []
    },
    {
      "cell_type": "code",
      "execution_count": null,
      "metadata": {
        "colab": {
          "base_uri": "https://localhost:8080/"
        },
        "id": "Hy3H926zFKep",
        "outputId": "7d1a32fd-0b36-4a27-e403-fbaad96e417f"
      },
      "outputs": [
        {
          "name": "stdout",
          "output_type": "stream",
          "text": [
            "32 packages can be upgraded. Run 'apt list --upgradable' to see them.\n",
            "\u001b[1;33mW: \u001b[0mSkipping acquire of configured file 'main/source/Sources' as repository 'https://r2u.stat.illinois.edu/ubuntu jammy InRelease' does not seem to provide it (sources.list entry misspelt?)\u001b[0m\n",
            "git is already the newest version (1:2.34.1-1ubuntu1.12).\n",
            "The following additional packages will be installed:\n",
            "  libaria2-0 libc-ares2\n",
            "The following NEW packages will be installed:\n",
            "  aria2 libaria2-0 libc-ares2\n",
            "0 upgraded, 3 newly installed, 0 to remove and 32 not upgraded.\n",
            "Need to get 1,513 kB of archives.\n",
            "After this operation, 5,441 kB of additional disk space will be used.\n",
            "Selecting previously unselected package libc-ares2:amd64.\n",
            "(Reading database ... 126315 files and directories currently installed.)\n",
            "Preparing to unpack .../libc-ares2_1.18.1-1ubuntu0.22.04.3_amd64.deb ...\n",
            "Unpacking libc-ares2:amd64 (1.18.1-1ubuntu0.22.04.3) ...\n",
            "Selecting previously unselected package libaria2-0:amd64.\n",
            "Preparing to unpack .../libaria2-0_1.36.0-1_amd64.deb ...\n",
            "Unpacking libaria2-0:amd64 (1.36.0-1) ...\n",
            "Selecting previously unselected package aria2.\n",
            "Preparing to unpack .../aria2_1.36.0-1_amd64.deb ...\n",
            "Unpacking aria2 (1.36.0-1) ...\n",
            "Setting up libc-ares2:amd64 (1.18.1-1ubuntu0.22.04.3) ...\n",
            "Setting up libaria2-0:amd64 (1.36.0-1) ...\n",
            "Setting up aria2 (1.36.0-1) ...\n",
            "Processing triggers for man-db (2.10.2-1) ...\n",
            "Processing triggers for libc-bin (2.35-0ubuntu3.8) ...\n",
            "/sbin/ldconfig.real: /usr/local/lib/libur_adapter_opencl.so.0 is not a symbolic link\n",
            "\n",
            "/sbin/ldconfig.real: /usr/local/lib/libur_loader.so.0 is not a symbolic link\n",
            "\n",
            "/sbin/ldconfig.real: /usr/local/lib/libhwloc.so.15 is not a symbolic link\n",
            "\n",
            "/sbin/ldconfig.real: /usr/local/lib/libtbb.so.12 is not a symbolic link\n",
            "\n",
            "/sbin/ldconfig.real: /usr/local/lib/libtcm.so.1 is not a symbolic link\n",
            "\n",
            "/sbin/ldconfig.real: /usr/local/lib/libtbbbind_2_0.so.3 is not a symbolic link\n",
            "\n",
            "/sbin/ldconfig.real: /usr/local/lib/libtcm_debug.so.1 is not a symbolic link\n",
            "\n",
            "/sbin/ldconfig.real: /usr/local/lib/libtbbbind.so.3 is not a symbolic link\n",
            "\n",
            "/sbin/ldconfig.real: /usr/local/lib/libtbbbind_2_5.so.3 is not a symbolic link\n",
            "\n",
            "/sbin/ldconfig.real: /usr/local/lib/libtbbmalloc_proxy.so.2 is not a symbolic link\n",
            "\n",
            "/sbin/ldconfig.real: /usr/local/lib/libtbbmalloc.so.2 is not a symbolic link\n",
            "\n",
            "/sbin/ldconfig.real: /usr/local/lib/libumf.so.0 is not a symbolic link\n",
            "\n",
            "/sbin/ldconfig.real: /usr/local/lib/libur_adapter_level_zero.so.0 is not a symbolic link\n",
            "\n",
            "fatal: destination path '/content/webui' already exists and is not an empty directory.\n",
            "/content/webui\n",
            "fatal: destination path 'extensions/sd-webui-controlnet' already exists and is not an empty directory.\n",
            "\n",
            "Download Results:\n",
            "gid   |stat|avg speed  |path/URI\n",
            "======+====+===========+=======================================================\n",
            "a59f88|\u001b[1;32mOK\u001b[0m  |       0B/s|/content/webui/models/Stable-diffusion/v1-5-pruned-emaonly.safetensors\n",
            "\n",
            "Status Legend:\n",
            "(OK):download completed.\n",
            "\n",
            "04/11 04:33:24 [\u001b[1;32mNOTICE\u001b[0m] Downloading 1 item(s)\n",
            "\n",
            "04/11 04:33:24 [\u001b[1;32mNOTICE\u001b[0m] CUID#7 - Redirecting to https://cdn-lfs.hf.co/repos/e7/4c/e74c9ddc88b5a293fa8aafeb615d6c61cb3aaa34dc7ce9e25100dfae2b09bf55/db97becd92cd19aff71352a60e93c2508decba3dee64f01f686727b9b406a9dd?response-content-disposition=inline%3B+filename*%3DUTF-8%27%27control_v11p_sd15_openpose.pth%3B+filename%3D%22control_v11p_sd15_openpose.pth%22%3B&Expires=1744349604&Policy=eyJTdGF0ZW1lbnQiOlt7IkNvbmRpdGlvbiI6eyJEYXRlTGVzc1RoYW4iOnsiQVdTOkVwb2NoVGltZSI6MTc0NDM0OTYwNH19LCJSZXNvdXJjZSI6Imh0dHBzOi8vY2RuLWxmcy5oZi5jby9yZXBvcy9lNy80Yy9lNzRjOWRkYzg4YjVhMjkzZmE4YWFmZWI2MTVkNmM2MWNiM2FhYTM0ZGM3Y2U5ZTI1MTAwZGZhZTJiMDliZjU1L2RiOTdiZWNkOTJjZDE5YWZmNzEzNTJhNjBlOTNjMjUwOGRlY2JhM2RlZTY0ZjAxZjY4NjcyN2I5YjQwNmE5ZGQ%7EcmVzcG9uc2UtY29udGVudC1kaXNwb3NpdGlvbj0qIn1dfQ__&Signature=PvPzfNuRqGSSuWPy26z5-Ef4O8zF27vvTx55R6yZ-XWpwyRa57g4FIk-AD8xo9jdOqYO4Xd-FZlqixzQLg-4A7JaFMmKgoAhoKiHLvFvji4W3bFWj1u3oJL7IQQnCpAhGJ3PS22Ss-uvp%7EvX7NqWgqJdywtdr-U1Q6EXw52By8c6veBeCiR%7EHN%7EQ-ZabTNlCV44566Dx04IIPj7aibXFv%7En5IAu5wBq3VklgAwJ4VSD2s3cfX0UHSsliBS0KVy3yTzBtnvf2yuSgHMOtcCsjjtCjS8Y5G6MktPbSEbXEPScLEd%7EpcIF0kZx8YjS56X7CY9e5JmoP17t8D9x3XK6lAw__&Key-Pair-Id=K3RPWS32NSSJCE\n",
            "\n",
            "04/11 04:33:24 [\u001b[1;32mNOTICE\u001b[0m] CUID#9 - Redirecting to https://cdn-lfs.hf.co/repos/e7/4c/e74c9ddc88b5a293fa8aafeb615d6c61cb3aaa34dc7ce9e25100dfae2b09bf55/db97becd92cd19aff71352a60e93c2508decba3dee64f01f686727b9b406a9dd?response-content-disposition=inline%3B+filename*%3DUTF-8%27%27control_v11p_sd15_openpose.pth%3B+filename%3D%22control_v11p_sd15_openpose.pth%22%3B&Expires=1744349004&Policy=eyJTdGF0ZW1lbnQiOlt7IkNvbmRpdGlvbiI6eyJEYXRlTGVzc1RoYW4iOnsiQVdTOkVwb2NoVGltZSI6MTc0NDM0OTAwNH19LCJSZXNvdXJjZSI6Imh0dHBzOi8vY2RuLWxmcy5oZi5jby9yZXBvcy9lNy80Yy9lNzRjOWRkYzg4YjVhMjkzZmE4YWFmZWI2MTVkNmM2MWNiM2FhYTM0ZGM3Y2U5ZTI1MTAwZGZhZTJiMDliZjU1L2RiOTdiZWNkOTJjZDE5YWZmNzEzNTJhNjBlOTNjMjUwOGRlY2JhM2RlZTY0ZjAxZjY4NjcyN2I5YjQwNmE5ZGQ%7EcmVzcG9uc2UtY29udGVudC1kaXNwb3NpdGlvbj0qIn1dfQ__&Signature=E83l0jxAAvS0T0y6VG%7E0-TarAz84uKceOFMFovHscLTvAEdnlUw19MrcahbAP4U%7EUXID-2bPpSzAU8ip2H32j8w%7EDlxFxa%7EFIXI3WlosVO1RE4oq010IYtHDUD44rzpmb6gOHamAwcyFtAHCYtLp6JwcFSeePtTBWgRY2w7UBim5AYAo3cbbX9IAPubipzH7SAZ-HZfSdJxmmDGFaDqeeQgYLlntWqRjVP8ceUQoX6MZCV-SYAseOjs0oEbMe9rja3ZH5xOuJdoDKqqItL30ssZdXpi9zH8lSLjhcX8R-xO9n4pv9CQFqrGyBNwgq0W%7EjVYlXEUsAnsG8X2jdpW0ug__&Key-Pair-Id=K3RPWS32NSSJCE\n",
            "\n",
            "04/11 04:33:24 [\u001b[1;32mNOTICE\u001b[0m] CUID#23 - Redirecting to https://cdn-lfs.hf.co/repos/e7/4c/e74c9ddc88b5a293fa8aafeb615d6c61cb3aaa34dc7ce9e25100dfae2b09bf55/db97becd92cd19aff71352a60e93c2508decba3dee64f01f686727b9b406a9dd?response-content-disposition=inline%3B+filename*%3DUTF-8%27%27control_v11p_sd15_openpose.pth%3B+filename%3D%22control_v11p_sd15_openpose.pth%22%3B&Expires=1744349604&Policy=eyJTdGF0ZW1lbnQiOlt7IkNvbmRpdGlvbiI6eyJEYXRlTGVzc1RoYW4iOnsiQVdTOkVwb2NoVGltZSI6MTc0NDM0OTYwNH19LCJSZXNvdXJjZSI6Imh0dHBzOi8vY2RuLWxmcy5oZi5jby9yZXBvcy9lNy80Yy9lNzRjOWRkYzg4YjVhMjkzZmE4YWFmZWI2MTVkNmM2MWNiM2FhYTM0ZGM3Y2U5ZTI1MTAwZGZhZTJiMDliZjU1L2RiOTdiZWNkOTJjZDE5YWZmNzEzNTJhNjBlOTNjMjUwOGRlY2JhM2RlZTY0ZjAxZjY4NjcyN2I5YjQwNmE5ZGQ%7EcmVzcG9uc2UtY29udGVudC1kaXNwb3NpdGlvbj0qIn1dfQ__&Signature=PvPzfNuRqGSSuWPy26z5-Ef4O8zF27vvTx55R6yZ-XWpwyRa57g4FIk-AD8xo9jdOqYO4Xd-FZlqixzQLg-4A7JaFMmKgoAhoKiHLvFvji4W3bFWj1u3oJL7IQQnCpAhGJ3PS22Ss-uvp%7EvX7NqWgqJdywtdr-U1Q6EXw52By8c6veBeCiR%7EHN%7EQ-ZabTNlCV44566Dx04IIPj7aibXFv%7En5IAu5wBq3VklgAwJ4VSD2s3cfX0UHSsliBS0KVy3yTzBtnvf2yuSgHMOtcCsjjtCjS8Y5G6MktPbSEbXEPScLEd%7EpcIF0kZx8YjS56X7CY9e5JmoP17t8D9x3XK6lAw__&Key-Pair-Id=K3RPWS32NSSJCE\n",
            "\n",
            "04/11 04:33:24 [\u001b[1;32mNOTICE\u001b[0m] CUID#12 - Redirecting to https://cdn-lfs.hf.co/repos/e7/4c/e74c9ddc88b5a293fa8aafeb615d6c61cb3aaa34dc7ce9e25100dfae2b09bf55/db97becd92cd19aff71352a60e93c2508decba3dee64f01f686727b9b406a9dd?response-content-disposition=inline%3B+filename*%3DUTF-8%27%27control_v11p_sd15_openpose.pth%3B+filename%3D%22control_v11p_sd15_openpose.pth%22%3B&Expires=1744349604&Policy=eyJTdGF0ZW1lbnQiOlt7IkNvbmRpdGlvbiI6eyJEYXRlTGVzc1RoYW4iOnsiQVdTOkVwb2NoVGltZSI6MTc0NDM0OTYwNH19LCJSZXNvdXJjZSI6Imh0dHBzOi8vY2RuLWxmcy5oZi5jby9yZXBvcy9lNy80Yy9lNzRjOWRkYzg4YjVhMjkzZmE4YWFmZWI2MTVkNmM2MWNiM2FhYTM0ZGM3Y2U5ZTI1MTAwZGZhZTJiMDliZjU1L2RiOTdiZWNkOTJjZDE5YWZmNzEzNTJhNjBlOTNjMjUwOGRlY2JhM2RlZTY0ZjAxZjY4NjcyN2I5YjQwNmE5ZGQ%7EcmVzcG9uc2UtY29udGVudC1kaXNwb3NpdGlvbj0qIn1dfQ__&Signature=PvPzfNuRqGSSuWPy26z5-Ef4O8zF27vvTx55R6yZ-XWpwyRa57g4FIk-AD8xo9jdOqYO4Xd-FZlqixzQLg-4A7JaFMmKgoAhoKiHLvFvji4W3bFWj1u3oJL7IQQnCpAhGJ3PS22Ss-uvp%7EvX7NqWgqJdywtdr-U1Q6EXw52By8c6veBeCiR%7EHN%7EQ-ZabTNlCV44566Dx04IIPj7aibXFv%7En5IAu5wBq3VklgAwJ4VSD2s3cfX0UHSsliBS0KVy3yTzBtnvf2yuSgHMOtcCsjjtCjS8Y5G6MktPbSEbXEPScLEd%7EpcIF0kZx8YjS56X7CY9e5JmoP17t8D9x3XK6lAw__&Key-Pair-Id=K3RPWS32NSSJCE\n",
            "\n",
            "04/11 04:33:24 [\u001b[1;32mNOTICE\u001b[0m] CUID#10 - Redirecting to https://cdn-lfs.hf.co/repos/e7/4c/e74c9ddc88b5a293fa8aafeb615d6c61cb3aaa34dc7ce9e25100dfae2b09bf55/db97becd92cd19aff71352a60e93c2508decba3dee64f01f686727b9b406a9dd?response-content-disposition=inline%3B+filename*%3DUTF-8%27%27control_v11p_sd15_openpose.pth%3B+filename%3D%22control_v11p_sd15_openpose.pth%22%3B&Expires=1744349004&Policy=eyJTdGF0ZW1lbnQiOlt7IkNvbmRpdGlvbiI6eyJEYXRlTGVzc1RoYW4iOnsiQVdTOkVwb2NoVGltZSI6MTc0NDM0OTAwNH19LCJSZXNvdXJjZSI6Imh0dHBzOi8vY2RuLWxmcy5oZi5jby9yZXBvcy9lNy80Yy9lNzRjOWRkYzg4YjVhMjkzZmE4YWFmZWI2MTVkNmM2MWNiM2FhYTM0ZGM3Y2U5ZTI1MTAwZGZhZTJiMDliZjU1L2RiOTdiZWNkOTJjZDE5YWZmNzEzNTJhNjBlOTNjMjUwOGRlY2JhM2RlZTY0ZjAxZjY4NjcyN2I5YjQwNmE5ZGQ%7EcmVzcG9uc2UtY29udGVudC1kaXNwb3NpdGlvbj0qIn1dfQ__&Signature=E83l0jxAAvS0T0y6VG%7E0-TarAz84uKceOFMFovHscLTvAEdnlUw19MrcahbAP4U%7EUXID-2bPpSzAU8ip2H32j8w%7EDlxFxa%7EFIXI3WlosVO1RE4oq010IYtHDUD44rzpmb6gOHamAwcyFtAHCYtLp6JwcFSeePtTBWgRY2w7UBim5AYAo3cbbX9IAPubipzH7SAZ-HZfSdJxmmDGFaDqeeQgYLlntWqRjVP8ceUQoX6MZCV-SYAseOjs0oEbMe9rja3ZH5xOuJdoDKqqItL30ssZdXpi9zH8lSLjhcX8R-xO9n4pv9CQFqrGyBNwgq0W%7EjVYlXEUsAnsG8X2jdpW0ug__&Key-Pair-Id=K3RPWS32NSSJCE\n",
            "\n",
            "04/11 04:33:24 [\u001b[1;32mNOTICE\u001b[0m] CUID#11 - Redirecting to https://cdn-lfs.hf.co/repos/e7/4c/e74c9ddc88b5a293fa8aafeb615d6c61cb3aaa34dc7ce9e25100dfae2b09bf55/db97becd92cd19aff71352a60e93c2508decba3dee64f01f686727b9b406a9dd?response-content-disposition=inline%3B+filename*%3DUTF-8%27%27control_v11p_sd15_openpose.pth%3B+filename%3D%22control_v11p_sd15_openpose.pth%22%3B&Expires=1744349604&Policy=eyJTdGF0ZW1lbnQiOlt7IkNvbmRpdGlvbiI6eyJEYXRlTGVzc1RoYW4iOnsiQVdTOkVwb2NoVGltZSI6MTc0NDM0OTYwNH19LCJSZXNvdXJjZSI6Imh0dHBzOi8vY2RuLWxmcy5oZi5jby9yZXBvcy9lNy80Yy9lNzRjOWRkYzg4YjVhMjkzZmE4YWFmZWI2MTVkNmM2MWNiM2FhYTM0ZGM3Y2U5ZTI1MTAwZGZhZTJiMDliZjU1L2RiOTdiZWNkOTJjZDE5YWZmNzEzNTJhNjBlOTNjMjUwOGRlY2JhM2RlZTY0ZjAxZjY4NjcyN2I5YjQwNmE5ZGQ%7EcmVzcG9uc2UtY29udGVudC1kaXNwb3NpdGlvbj0qIn1dfQ__&Signature=PvPzfNuRqGSSuWPy26z5-Ef4O8zF27vvTx55R6yZ-XWpwyRa57g4FIk-AD8xo9jdOqYO4Xd-FZlqixzQLg-4A7JaFMmKgoAhoKiHLvFvji4W3bFWj1u3oJL7IQQnCpAhGJ3PS22Ss-uvp%7EvX7NqWgqJdywtdr-U1Q6EXw52By8c6veBeCiR%7EHN%7EQ-ZabTNlCV44566Dx04IIPj7aibXFv%7En5IAu5wBq3VklgAwJ4VSD2s3cfX0UHSsliBS0KVy3yTzBtnvf2yuSgHMOtcCsjjtCjS8Y5G6MktPbSEbXEPScLEd%7EpcIF0kZx8YjS56X7CY9e5JmoP17t8D9x3XK6lAw__&Key-Pair-Id=K3RPWS32NSSJCE\n",
            "\n",
            "04/11 04:33:24 [\u001b[1;32mNOTICE\u001b[0m] CUID#14 - Redirecting to https://cdn-lfs.hf.co/repos/e7/4c/e74c9ddc88b5a293fa8aafeb615d6c61cb3aaa34dc7ce9e25100dfae2b09bf55/db97becd92cd19aff71352a60e93c2508decba3dee64f01f686727b9b406a9dd?response-content-disposition=inline%3B+filename*%3DUTF-8%27%27control_v11p_sd15_openpose.pth%3B+filename%3D%22control_v11p_sd15_openpose.pth%22%3B&Expires=1744349604&Policy=eyJTdGF0ZW1lbnQiOlt7IkNvbmRpdGlvbiI6eyJEYXRlTGVzc1RoYW4iOnsiQVdTOkVwb2NoVGltZSI6MTc0NDM0OTYwNH19LCJSZXNvdXJjZSI6Imh0dHBzOi8vY2RuLWxmcy5oZi5jby9yZXBvcy9lNy80Yy9lNzRjOWRkYzg4YjVhMjkzZmE4YWFmZWI2MTVkNmM2MWNiM2FhYTM0ZGM3Y2U5ZTI1MTAwZGZhZTJiMDliZjU1L2RiOTdiZWNkOTJjZDE5YWZmNzEzNTJhNjBlOTNjMjUwOGRlY2JhM2RlZTY0ZjAxZjY4NjcyN2I5YjQwNmE5ZGQ%7EcmVzcG9uc2UtY29udGVudC1kaXNwb3NpdGlvbj0qIn1dfQ__&Signature=PvPzfNuRqGSSuWPy26z5-Ef4O8zF27vvTx55R6yZ-XWpwyRa57g4FIk-AD8xo9jdOqYO4Xd-FZlqixzQLg-4A7JaFMmKgoAhoKiHLvFvji4W3bFWj1u3oJL7IQQnCpAhGJ3PS22Ss-uvp%7EvX7NqWgqJdywtdr-U1Q6EXw52By8c6veBeCiR%7EHN%7EQ-ZabTNlCV44566Dx04IIPj7aibXFv%7En5IAu5wBq3VklgAwJ4VSD2s3cfX0UHSsliBS0KVy3yTzBtnvf2yuSgHMOtcCsjjtCjS8Y5G6MktPbSEbXEPScLEd%7EpcIF0kZx8YjS56X7CY9e5JmoP17t8D9x3XK6lAw__&Key-Pair-Id=K3RPWS32NSSJCE\n",
            "\n",
            "04/11 04:33:24 [\u001b[1;32mNOTICE\u001b[0m] CUID#16 - Redirecting to https://cdn-lfs.hf.co/repos/e7/4c/e74c9ddc88b5a293fa8aafeb615d6c61cb3aaa34dc7ce9e25100dfae2b09bf55/db97becd92cd19aff71352a60e93c2508decba3dee64f01f686727b9b406a9dd?response-content-disposition=inline%3B+filename*%3DUTF-8%27%27control_v11p_sd15_openpose.pth%3B+filename%3D%22control_v11p_sd15_openpose.pth%22%3B&Expires=1744349004&Policy=eyJTdGF0ZW1lbnQiOlt7IkNvbmRpdGlvbiI6eyJEYXRlTGVzc1RoYW4iOnsiQVdTOkVwb2NoVGltZSI6MTc0NDM0OTAwNH19LCJSZXNvdXJjZSI6Imh0dHBzOi8vY2RuLWxmcy5oZi5jby9yZXBvcy9lNy80Yy9lNzRjOWRkYzg4YjVhMjkzZmE4YWFmZWI2MTVkNmM2MWNiM2FhYTM0ZGM3Y2U5ZTI1MTAwZGZhZTJiMDliZjU1L2RiOTdiZWNkOTJjZDE5YWZmNzEzNTJhNjBlOTNjMjUwOGRlY2JhM2RlZTY0ZjAxZjY4NjcyN2I5YjQwNmE5ZGQ%7EcmVzcG9uc2UtY29udGVudC1kaXNwb3NpdGlvbj0qIn1dfQ__&Signature=E83l0jxAAvS0T0y6VG%7E0-TarAz84uKceOFMFovHscLTvAEdnlUw19MrcahbAP4U%7EUXID-2bPpSzAU8ip2H32j8w%7EDlxFxa%7EFIXI3WlosVO1RE4oq010IYtHDUD44rzpmb6gOHamAwcyFtAHCYtLp6JwcFSeePtTBWgRY2w7UBim5AYAo3cbbX9IAPubipzH7SAZ-HZfSdJxmmDGFaDqeeQgYLlntWqRjVP8ceUQoX6MZCV-SYAseOjs0oEbMe9rja3ZH5xOuJdoDKqqItL30ssZdXpi9zH8lSLjhcX8R-xO9n4pv9CQFqrGyBNwgq0W%7EjVYlXEUsAnsG8X2jdpW0ug__&Key-Pair-Id=K3RPWS32NSSJCE\n",
            "\n",
            "04/11 04:33:24 [\u001b[1;32mNOTICE\u001b[0m] CUID#17 - Redirecting to https://cdn-lfs.hf.co/repos/e7/4c/e74c9ddc88b5a293fa8aafeb615d6c61cb3aaa34dc7ce9e25100dfae2b09bf55/db97becd92cd19aff71352a60e93c2508decba3dee64f01f686727b9b406a9dd?response-content-disposition=inline%3B+filename*%3DUTF-8%27%27control_v11p_sd15_openpose.pth%3B+filename%3D%22control_v11p_sd15_openpose.pth%22%3B&Expires=1744349004&Policy=eyJTdGF0ZW1lbnQiOlt7IkNvbmRpdGlvbiI6eyJEYXRlTGVzc1RoYW4iOnsiQVdTOkVwb2NoVGltZSI6MTc0NDM0OTAwNH19LCJSZXNvdXJjZSI6Imh0dHBzOi8vY2RuLWxmcy5oZi5jby9yZXBvcy9lNy80Yy9lNzRjOWRkYzg4YjVhMjkzZmE4YWFmZWI2MTVkNmM2MWNiM2FhYTM0ZGM3Y2U5ZTI1MTAwZGZhZTJiMDliZjU1L2RiOTdiZWNkOTJjZDE5YWZmNzEzNTJhNjBlOTNjMjUwOGRlY2JhM2RlZTY0ZjAxZjY4NjcyN2I5YjQwNmE5ZGQ%7EcmVzcG9uc2UtY29udGVudC1kaXNwb3NpdGlvbj0qIn1dfQ__&Signature=E83l0jxAAvS0T0y6VG%7E0-TarAz84uKceOFMFovHscLTvAEdnlUw19MrcahbAP4U%7EUXID-2bPpSzAU8ip2H32j8w%7EDlxFxa%7EFIXI3WlosVO1RE4oq010IYtHDUD44rzpmb6gOHamAwcyFtAHCYtLp6JwcFSeePtTBWgRY2w7UBim5AYAo3cbbX9IAPubipzH7SAZ-HZfSdJxmmDGFaDqeeQgYLlntWqRjVP8ceUQoX6MZCV-SYAseOjs0oEbMe9rja3ZH5xOuJdoDKqqItL30ssZdXpi9zH8lSLjhcX8R-xO9n4pv9CQFqrGyBNwgq0W%7EjVYlXEUsAnsG8X2jdpW0ug__&Key-Pair-Id=K3RPWS32NSSJCE\n",
            "\n",
            "04/11 04:33:24 [\u001b[1;32mNOTICE\u001b[0m] CUID#15 - Redirecting to https://cdn-lfs.hf.co/repos/e7/4c/e74c9ddc88b5a293fa8aafeb615d6c61cb3aaa34dc7ce9e25100dfae2b09bf55/db97becd92cd19aff71352a60e93c2508decba3dee64f01f686727b9b406a9dd?response-content-disposition=inline%3B+filename*%3DUTF-8%27%27control_v11p_sd15_openpose.pth%3B+filename%3D%22control_v11p_sd15_openpose.pth%22%3B&Expires=1744349604&Policy=eyJTdGF0ZW1lbnQiOlt7IkNvbmRpdGlvbiI6eyJEYXRlTGVzc1RoYW4iOnsiQVdTOkVwb2NoVGltZSI6MTc0NDM0OTYwNH19LCJSZXNvdXJjZSI6Imh0dHBzOi8vY2RuLWxmcy5oZi5jby9yZXBvcy9lNy80Yy9lNzRjOWRkYzg4YjVhMjkzZmE4YWFmZWI2MTVkNmM2MWNiM2FhYTM0ZGM3Y2U5ZTI1MTAwZGZhZTJiMDliZjU1L2RiOTdiZWNkOTJjZDE5YWZmNzEzNTJhNjBlOTNjMjUwOGRlY2JhM2RlZTY0ZjAxZjY4NjcyN2I5YjQwNmE5ZGQ%7EcmVzcG9uc2UtY29udGVudC1kaXNwb3NpdGlvbj0qIn1dfQ__&Signature=PvPzfNuRqGSSuWPy26z5-Ef4O8zF27vvTx55R6yZ-XWpwyRa57g4FIk-AD8xo9jdOqYO4Xd-FZlqixzQLg-4A7JaFMmKgoAhoKiHLvFvji4W3bFWj1u3oJL7IQQnCpAhGJ3PS22Ss-uvp%7EvX7NqWgqJdywtdr-U1Q6EXw52By8c6veBeCiR%7EHN%7EQ-ZabTNlCV44566Dx04IIPj7aibXFv%7En5IAu5wBq3VklgAwJ4VSD2s3cfX0UHSsliBS0KVy3yTzBtnvf2yuSgHMOtcCsjjtCjS8Y5G6MktPbSEbXEPScLEd%7EpcIF0kZx8YjS56X7CY9e5JmoP17t8D9x3XK6lAw__&Key-Pair-Id=K3RPWS32NSSJCE\n",
            "\n",
            "04/11 04:33:24 [\u001b[1;32mNOTICE\u001b[0m] CUID#18 - Redirecting to https://cdn-lfs.hf.co/repos/e7/4c/e74c9ddc88b5a293fa8aafeb615d6c61cb3aaa34dc7ce9e25100dfae2b09bf55/db97becd92cd19aff71352a60e93c2508decba3dee64f01f686727b9b406a9dd?response-content-disposition=inline%3B+filename*%3DUTF-8%27%27control_v11p_sd15_openpose.pth%3B+filename%3D%22control_v11p_sd15_openpose.pth%22%3B&Expires=1744349604&Policy=eyJTdGF0ZW1lbnQiOlt7IkNvbmRpdGlvbiI6eyJEYXRlTGVzc1RoYW4iOnsiQVdTOkVwb2NoVGltZSI6MTc0NDM0OTYwNH19LCJSZXNvdXJjZSI6Imh0dHBzOi8vY2RuLWxmcy5oZi5jby9yZXBvcy9lNy80Yy9lNzRjOWRkYzg4YjVhMjkzZmE4YWFmZWI2MTVkNmM2MWNiM2FhYTM0ZGM3Y2U5ZTI1MTAwZGZhZTJiMDliZjU1L2RiOTdiZWNkOTJjZDE5YWZmNzEzNTJhNjBlOTNjMjUwOGRlY2JhM2RlZTY0ZjAxZjY4NjcyN2I5YjQwNmE5ZGQ%7EcmVzcG9uc2UtY29udGVudC1kaXNwb3NpdGlvbj0qIn1dfQ__&Signature=PvPzfNuRqGSSuWPy26z5-Ef4O8zF27vvTx55R6yZ-XWpwyRa57g4FIk-AD8xo9jdOqYO4Xd-FZlqixzQLg-4A7JaFMmKgoAhoKiHLvFvji4W3bFWj1u3oJL7IQQnCpAhGJ3PS22Ss-uvp%7EvX7NqWgqJdywtdr-U1Q6EXw52By8c6veBeCiR%7EHN%7EQ-ZabTNlCV44566Dx04IIPj7aibXFv%7En5IAu5wBq3VklgAwJ4VSD2s3cfX0UHSsliBS0KVy3yTzBtnvf2yuSgHMOtcCsjjtCjS8Y5G6MktPbSEbXEPScLEd%7EpcIF0kZx8YjS56X7CY9e5JmoP17t8D9x3XK6lAw__&Key-Pair-Id=K3RPWS32NSSJCE\n",
            "\n",
            "04/11 04:33:24 [\u001b[1;32mNOTICE\u001b[0m] CUID#19 - Redirecting to https://cdn-lfs.hf.co/repos/e7/4c/e74c9ddc88b5a293fa8aafeb615d6c61cb3aaa34dc7ce9e25100dfae2b09bf55/db97becd92cd19aff71352a60e93c2508decba3dee64f01f686727b9b406a9dd?response-content-disposition=inline%3B+filename*%3DUTF-8%27%27control_v11p_sd15_openpose.pth%3B+filename%3D%22control_v11p_sd15_openpose.pth%22%3B&Expires=1744349604&Policy=eyJTdGF0ZW1lbnQiOlt7IkNvbmRpdGlvbiI6eyJEYXRlTGVzc1RoYW4iOnsiQVdTOkVwb2NoVGltZSI6MTc0NDM0OTYwNH19LCJSZXNvdXJjZSI6Imh0dHBzOi8vY2RuLWxmcy5oZi5jby9yZXBvcy9lNy80Yy9lNzRjOWRkYzg4YjVhMjkzZmE4YWFmZWI2MTVkNmM2MWNiM2FhYTM0ZGM3Y2U5ZTI1MTAwZGZhZTJiMDliZjU1L2RiOTdiZWNkOTJjZDE5YWZmNzEzNTJhNjBlOTNjMjUwOGRlY2JhM2RlZTY0ZjAxZjY4NjcyN2I5YjQwNmE5ZGQ%7EcmVzcG9uc2UtY29udGVudC1kaXNwb3NpdGlvbj0qIn1dfQ__&Signature=PvPzfNuRqGSSuWPy26z5-Ef4O8zF27vvTx55R6yZ-XWpwyRa57g4FIk-AD8xo9jdOqYO4Xd-FZlqixzQLg-4A7JaFMmKgoAhoKiHLvFvji4W3bFWj1u3oJL7IQQnCpAhGJ3PS22Ss-uvp%7EvX7NqWgqJdywtdr-U1Q6EXw52By8c6veBeCiR%7EHN%7EQ-ZabTNlCV44566Dx04IIPj7aibXFv%7En5IAu5wBq3VklgAwJ4VSD2s3cfX0UHSsliBS0KVy3yTzBtnvf2yuSgHMOtcCsjjtCjS8Y5G6MktPbSEbXEPScLEd%7EpcIF0kZx8YjS56X7CY9e5JmoP17t8D9x3XK6lAw__&Key-Pair-Id=K3RPWS32NSSJCE\n",
            "\n",
            "04/11 04:33:24 [\u001b[1;32mNOTICE\u001b[0m] CUID#21 - Redirecting to https://cdn-lfs.hf.co/repos/e7/4c/e74c9ddc88b5a293fa8aafeb615d6c61cb3aaa34dc7ce9e25100dfae2b09bf55/db97becd92cd19aff71352a60e93c2508decba3dee64f01f686727b9b406a9dd?response-content-disposition=inline%3B+filename*%3DUTF-8%27%27control_v11p_sd15_openpose.pth%3B+filename%3D%22control_v11p_sd15_openpose.pth%22%3B&Expires=1744349604&Policy=eyJTdGF0ZW1lbnQiOlt7IkNvbmRpdGlvbiI6eyJEYXRlTGVzc1RoYW4iOnsiQVdTOkVwb2NoVGltZSI6MTc0NDM0OTYwNH19LCJSZXNvdXJjZSI6Imh0dHBzOi8vY2RuLWxmcy5oZi5jby9yZXBvcy9lNy80Yy9lNzRjOWRkYzg4YjVhMjkzZmE4YWFmZWI2MTVkNmM2MWNiM2FhYTM0ZGM3Y2U5ZTI1MTAwZGZhZTJiMDliZjU1L2RiOTdiZWNkOTJjZDE5YWZmNzEzNTJhNjBlOTNjMjUwOGRlY2JhM2RlZTY0ZjAxZjY4NjcyN2I5YjQwNmE5ZGQ%7EcmVzcG9uc2UtY29udGVudC1kaXNwb3NpdGlvbj0qIn1dfQ__&Signature=PvPzfNuRqGSSuWPy26z5-Ef4O8zF27vvTx55R6yZ-XWpwyRa57g4FIk-AD8xo9jdOqYO4Xd-FZlqixzQLg-4A7JaFMmKgoAhoKiHLvFvji4W3bFWj1u3oJL7IQQnCpAhGJ3PS22Ss-uvp%7EvX7NqWgqJdywtdr-U1Q6EXw52By8c6veBeCiR%7EHN%7EQ-ZabTNlCV44566Dx04IIPj7aibXFv%7En5IAu5wBq3VklgAwJ4VSD2s3cfX0UHSsliBS0KVy3yTzBtnvf2yuSgHMOtcCsjjtCjS8Y5G6MktPbSEbXEPScLEd%7EpcIF0kZx8YjS56X7CY9e5JmoP17t8D9x3XK6lAw__&Key-Pair-Id=K3RPWS32NSSJCE\n",
            "\n",
            "04/11 04:33:24 [\u001b[1;32mNOTICE\u001b[0m] CUID#20 - Redirecting to https://cdn-lfs.hf.co/repos/e7/4c/e74c9ddc88b5a293fa8aafeb615d6c61cb3aaa34dc7ce9e25100dfae2b09bf55/db97becd92cd19aff71352a60e93c2508decba3dee64f01f686727b9b406a9dd?response-content-disposition=inline%3B+filename*%3DUTF-8%27%27control_v11p_sd15_openpose.pth%3B+filename%3D%22control_v11p_sd15_openpose.pth%22%3B&Expires=1744349004&Policy=eyJTdGF0ZW1lbnQiOlt7IkNvbmRpdGlvbiI6eyJEYXRlTGVzc1RoYW4iOnsiQVdTOkVwb2NoVGltZSI6MTc0NDM0OTAwNH19LCJSZXNvdXJjZSI6Imh0dHBzOi8vY2RuLWxmcy5oZi5jby9yZXBvcy9lNy80Yy9lNzRjOWRkYzg4YjVhMjkzZmE4YWFmZWI2MTVkNmM2MWNiM2FhYTM0ZGM3Y2U5ZTI1MTAwZGZhZTJiMDliZjU1L2RiOTdiZWNkOTJjZDE5YWZmNzEzNTJhNjBlOTNjMjUwOGRlY2JhM2RlZTY0ZjAxZjY4NjcyN2I5YjQwNmE5ZGQ%7EcmVzcG9uc2UtY29udGVudC1kaXNwb3NpdGlvbj0qIn1dfQ__&Signature=E83l0jxAAvS0T0y6VG%7E0-TarAz84uKceOFMFovHscLTvAEdnlUw19MrcahbAP4U%7EUXID-2bPpSzAU8ip2H32j8w%7EDlxFxa%7EFIXI3WlosVO1RE4oq010IYtHDUD44rzpmb6gOHamAwcyFtAHCYtLp6JwcFSeePtTBWgRY2w7UBim5AYAo3cbbX9IAPubipzH7SAZ-HZfSdJxmmDGFaDqeeQgYLlntWqRjVP8ceUQoX6MZCV-SYAseOjs0oEbMe9rja3ZH5xOuJdoDKqqItL30ssZdXpi9zH8lSLjhcX8R-xO9n4pv9CQFqrGyBNwgq0W%7EjVYlXEUsAnsG8X2jdpW0ug__&Key-Pair-Id=K3RPWS32NSSJCE\n",
            "\n",
            "04/11 04:33:24 [\u001b[1;32mNOTICE\u001b[0m] CUID#22 - Redirecting to https://cdn-lfs.hf.co/repos/e7/4c/e74c9ddc88b5a293fa8aafeb615d6c61cb3aaa34dc7ce9e25100dfae2b09bf55/db97becd92cd19aff71352a60e93c2508decba3dee64f01f686727b9b406a9dd?response-content-disposition=inline%3B+filename*%3DUTF-8%27%27control_v11p_sd15_openpose.pth%3B+filename%3D%22control_v11p_sd15_openpose.pth%22%3B&Expires=1744349604&Policy=eyJTdGF0ZW1lbnQiOlt7IkNvbmRpdGlvbiI6eyJEYXRlTGVzc1RoYW4iOnsiQVdTOkVwb2NoVGltZSI6MTc0NDM0OTYwNH19LCJSZXNvdXJjZSI6Imh0dHBzOi8vY2RuLWxmcy5oZi5jby9yZXBvcy9lNy80Yy9lNzRjOWRkYzg4YjVhMjkzZmE4YWFmZWI2MTVkNmM2MWNiM2FhYTM0ZGM3Y2U5ZTI1MTAwZGZhZTJiMDliZjU1L2RiOTdiZWNkOTJjZDE5YWZmNzEzNTJhNjBlOTNjMjUwOGRlY2JhM2RlZTY0ZjAxZjY4NjcyN2I5YjQwNmE5ZGQ%7EcmVzcG9uc2UtY29udGVudC1kaXNwb3NpdGlvbj0qIn1dfQ__&Signature=PvPzfNuRqGSSuWPy26z5-Ef4O8zF27vvTx55R6yZ-XWpwyRa57g4FIk-AD8xo9jdOqYO4Xd-FZlqixzQLg-4A7JaFMmKgoAhoKiHLvFvji4W3bFWj1u3oJL7IQQnCpAhGJ3PS22Ss-uvp%7EvX7NqWgqJdywtdr-U1Q6EXw52By8c6veBeCiR%7EHN%7EQ-ZabTNlCV44566Dx04IIPj7aibXFv%7En5IAu5wBq3VklgAwJ4VSD2s3cfX0UHSsliBS0KVy3yTzBtnvf2yuSgHMOtcCsjjtCjS8Y5G6MktPbSEbXEPScLEd%7EpcIF0kZx8YjS56X7CY9e5JmoP17t8D9x3XK6lAw__&Key-Pair-Id=K3RPWS32NSSJCE\n",
            "\n",
            "04/11 04:33:24 [\u001b[1;32mNOTICE\u001b[0m] CUID#18 - Redirecting to https://cdn-lfs.hf.co/repos/e7/4c/e74c9ddc88b5a293fa8aafeb615d6c61cb3aaa34dc7ce9e25100dfae2b09bf55/db97becd92cd19aff71352a60e93c2508decba3dee64f01f686727b9b406a9dd?response-content-disposition=inline%3B+filename*%3DUTF-8%27%27control_v11p_sd15_openpose.pth%3B+filename%3D%22control_v11p_sd15_openpose.pth%22%3B&Expires=1744349604&Policy=eyJTdGF0ZW1lbnQiOlt7IkNvbmRpdGlvbiI6eyJEYXRlTGVzc1RoYW4iOnsiQVdTOkVwb2NoVGltZSI6MTc0NDM0OTYwNH19LCJSZXNvdXJjZSI6Imh0dHBzOi8vY2RuLWxmcy5oZi5jby9yZXBvcy9lNy80Yy9lNzRjOWRkYzg4YjVhMjkzZmE4YWFmZWI2MTVkNmM2MWNiM2FhYTM0ZGM3Y2U5ZTI1MTAwZGZhZTJiMDliZjU1L2RiOTdiZWNkOTJjZDE5YWZmNzEzNTJhNjBlOTNjMjUwOGRlY2JhM2RlZTY0ZjAxZjY4NjcyN2I5YjQwNmE5ZGQ%7EcmVzcG9uc2UtY29udGVudC1kaXNwb3NpdGlvbj0qIn1dfQ__&Signature=PvPzfNuRqGSSuWPy26z5-Ef4O8zF27vvTx55R6yZ-XWpwyRa57g4FIk-AD8xo9jdOqYO4Xd-FZlqixzQLg-4A7JaFMmKgoAhoKiHLvFvji4W3bFWj1u3oJL7IQQnCpAhGJ3PS22Ss-uvp%7EvX7NqWgqJdywtdr-U1Q6EXw52By8c6veBeCiR%7EHN%7EQ-ZabTNlCV44566Dx04IIPj7aibXFv%7En5IAu5wBq3VklgAwJ4VSD2s3cfX0UHSsliBS0KVy3yTzBtnvf2yuSgHMOtcCsjjtCjS8Y5G6MktPbSEbXEPScLEd%7EpcIF0kZx8YjS56X7CY9e5JmoP17t8D9x3XK6lAw__&Key-Pair-Id=K3RPWS32NSSJCE\n",
            "\n",
            "04/11 04:33:24 [\u001b[1;32mNOTICE\u001b[0m] CUID#20 - Redirecting to https://cdn-lfs.hf.co/repos/e7/4c/e74c9ddc88b5a293fa8aafeb615d6c61cb3aaa34dc7ce9e25100dfae2b09bf55/db97becd92cd19aff71352a60e93c2508decba3dee64f01f686727b9b406a9dd?response-content-disposition=inline%3B+filename*%3DUTF-8%27%27control_v11p_sd15_openpose.pth%3B+filename%3D%22control_v11p_sd15_openpose.pth%22%3B&Expires=1744349604&Policy=eyJTdGF0ZW1lbnQiOlt7IkNvbmRpdGlvbiI6eyJEYXRlTGVzc1RoYW4iOnsiQVdTOkVwb2NoVGltZSI6MTc0NDM0OTYwNH19LCJSZXNvdXJjZSI6Imh0dHBzOi8vY2RuLWxmcy5oZi5jby9yZXBvcy9lNy80Yy9lNzRjOWRkYzg4YjVhMjkzZmE4YWFmZWI2MTVkNmM2MWNiM2FhYTM0ZGM3Y2U5ZTI1MTAwZGZhZTJiMDliZjU1L2RiOTdiZWNkOTJjZDE5YWZmNzEzNTJhNjBlOTNjMjUwOGRlY2JhM2RlZTY0ZjAxZjY4NjcyN2I5YjQwNmE5ZGQ%7EcmVzcG9uc2UtY29udGVudC1kaXNwb3NpdGlvbj0qIn1dfQ__&Signature=PvPzfNuRqGSSuWPy26z5-Ef4O8zF27vvTx55R6yZ-XWpwyRa57g4FIk-AD8xo9jdOqYO4Xd-FZlqixzQLg-4A7JaFMmKgoAhoKiHLvFvji4W3bFWj1u3oJL7IQQnCpAhGJ3PS22Ss-uvp%7EvX7NqWgqJdywtdr-U1Q6EXw52By8c6veBeCiR%7EHN%7EQ-ZabTNlCV44566Dx04IIPj7aibXFv%7En5IAu5wBq3VklgAwJ4VSD2s3cfX0UHSsliBS0KVy3yTzBtnvf2yuSgHMOtcCsjjtCjS8Y5G6MktPbSEbXEPScLEd%7EpcIF0kZx8YjS56X7CY9e5JmoP17t8D9x3XK6lAw__&Key-Pair-Id=K3RPWS32NSSJCE\n",
            "\n",
            "04/11 04:33:24 [\u001b[1;32mNOTICE\u001b[0m] CUID#13 - Redirecting to https://cdn-lfs.hf.co/repos/e7/4c/e74c9ddc88b5a293fa8aafeb615d6c61cb3aaa34dc7ce9e25100dfae2b09bf55/db97becd92cd19aff71352a60e93c2508decba3dee64f01f686727b9b406a9dd?response-content-disposition=inline%3B+filename*%3DUTF-8%27%27control_v11p_sd15_openpose.pth%3B+filename%3D%22control_v11p_sd15_openpose.pth%22%3B&Expires=1744349004&Policy=eyJTdGF0ZW1lbnQiOlt7IkNvbmRpdGlvbiI6eyJEYXRlTGVzc1RoYW4iOnsiQVdTOkVwb2NoVGltZSI6MTc0NDM0OTAwNH19LCJSZXNvdXJjZSI6Imh0dHBzOi8vY2RuLWxmcy5oZi5jby9yZXBvcy9lNy80Yy9lNzRjOWRkYzg4YjVhMjkzZmE4YWFmZWI2MTVkNmM2MWNiM2FhYTM0ZGM3Y2U5ZTI1MTAwZGZhZTJiMDliZjU1L2RiOTdiZWNkOTJjZDE5YWZmNzEzNTJhNjBlOTNjMjUwOGRlY2JhM2RlZTY0ZjAxZjY4NjcyN2I5YjQwNmE5ZGQ%7EcmVzcG9uc2UtY29udGVudC1kaXNwb3NpdGlvbj0qIn1dfQ__&Signature=E83l0jxAAvS0T0y6VG%7E0-TarAz84uKceOFMFovHscLTvAEdnlUw19MrcahbAP4U%7EUXID-2bPpSzAU8ip2H32j8w%7EDlxFxa%7EFIXI3WlosVO1RE4oq010IYtHDUD44rzpmb6gOHamAwcyFtAHCYtLp6JwcFSeePtTBWgRY2w7UBim5AYAo3cbbX9IAPubipzH7SAZ-HZfSdJxmmDGFaDqeeQgYLlntWqRjVP8ceUQoX6MZCV-SYAseOjs0oEbMe9rja3ZH5xOuJdoDKqqItL30ssZdXpi9zH8lSLjhcX8R-xO9n4pv9CQFqrGyBNwgq0W%7EjVYlXEUsAnsG8X2jdpW0ug__&Key-Pair-Id=K3RPWS32NSSJCE\n",
            "\u001b[0m\n",
            "04/11 04:33:30 [\u001b[1;32mNOTICE\u001b[0m] Download complete: /content/webui/extensions/sd-webui-controlnet/models/db97becd92cd19aff71352a60e93c2508decba3dee64f01f686727b9b406a9dd\n",
            "\n",
            "Download Results:\n",
            "gid   |stat|avg speed  |path/URI\n",
            "======+====+===========+=======================================================\n",
            "b4c885|\u001b[1;32mOK\u001b[0m  |   250MiB/s|/content/webui/extensions/sd-webui-controlnet/models/db97becd92cd19aff71352a60e93c2508decba3dee64f01f686727b9b406a9dd\n",
            "\n",
            "Status Legend:\n",
            "(OK):download completed.\n"
          ]
        }
      ],
      "source": [
        "#@title 🚀 Launch AUTOMATIC1111 WebUI + ControlNet (with character consistency setup)\n",
        "!apt -y update -qq && apt -y install -qq aria2 git\n",
        "!git clone https://github.com/AUTOMATIC1111/stable-diffusion-webui /content/webui\n",
        "%cd /content/webui\n",
        "\n",
        "# Add ControlNet extension\n",
        "!git clone https://github.com/Mikubill/sd-webui-controlnet extensions/sd-webui-controlnet\n",
        "\n",
        "# Download SD1.5 checkpoint\n",
        "!mkdir -p /content/webui/models/Stable-diffusion\n",
        "!aria2c --console-log-level=error -c -x 16 -s 16 -k 1M \\\n",
        "  https://huggingface.co/runwayml/stable-diffusion-v1-5/resolve/main/v1-5-pruned-emaonly.safetensors \\\n",
        "  -d /content/webui/models/Stable-diffusion -o v1-5-pruned-emaonly.safetensors\n",
        "\n",
        "# Download ControlNet models (OpenPose as example)\n",
        "!mkdir -p /content/webui/extensions/sd-webui-controlnet/models\n",
        "!aria2c -c -x 16 -s 16 -k 1M \\\n",
        "  https://huggingface.co/lllyasviel/ControlNet-v1-1/resolve/main/control_v11p_sd15_openpose.pth \\\n",
        "  -d /content/webui/extensions/sd-webui-controlnet/models\n",
        "\n"
      ]
    },
    {
      "cell_type": "code",
      "execution_count": null,
      "metadata": {
        "id": "vWYEske3F-PJ"
      },
      "outputs": [],
      "source": []
    }
  ],
  "metadata": {
    "accelerator": "GPU",
    "colab": {
      "gpuType": "T4",
      "provenance": [],
      "include_colab_link": true
    },
    "kernelspec": {
      "display_name": "Python 3",
      "name": "python3"
    },
    "language_info": {
      "name": "python"
    }
  },
  "nbformat": 4,
  "nbformat_minor": 0
}